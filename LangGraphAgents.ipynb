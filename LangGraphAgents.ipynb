{
 "cells": [
  {
   "cell_type": "code",
   "execution_count": 4,
   "metadata": {},
   "outputs": [],
   "source": [
    "import os, getpass\n",
    "def _set_env(var: str):\n",
    "    if not os.environ.get(var):\n",
    "        os.environ[var] = getpass.getpass(f\"Enter {var}: \")\n",
    "\n",
    "_set_env(\"OPENAI_API_KEY\")"
   ]
  },
  {
   "cell_type": "code",
   "execution_count": 7,
   "metadata": {},
   "outputs": [],
   "source": [
    "import datetime\n",
    "from langchain_openai import ChatOpenAI\n",
    "\n",
    "llm = ChatOpenAI(model=\"gpt-4o\")\n",
    "\n",
    "def shop_opening_hours() -> str:\n",
    "    \"The shop's opening hours are:\"\n",
    "    schedule = \"\"\"Monday: 10am-8pm\n",
    "                    Tuesday: 10am-8pm\n",
    "                    Wednesday: 10am-8pm\n",
    "                    Thursday: 10am-8pm\n",
    "                    Friday: 10am-8pm\n",
    "                    Saturday: 10am-8pm\n",
    "                    Sunday: 10am-8pm\"\"\"\n",
    "    return schedule\n",
    "\n",
    "def get_current_time() -> datetime:\n",
    "    \"Gets the current date and time\"\n",
    "    return datetime.datetime.now()\n",
    "\n",
    "tools = [shop_opening_hours, get_current_time]\n",
    "\n",
    "llm_with_tools = llm.bind_tools(tools)"
   ]
  },
  {
   "cell_type": "code",
   "execution_count": 8,
   "metadata": {},
   "outputs": [],
   "source": [
    "from langgraph.graph import MessagesState\n",
    "from langchain_core.messages import SystemMessage\n",
    "\n",
    "sys_msg = SystemMessage(content=\"You are a helpful assistant who is responsible for determining whether a shop is open or closed based on the current date and time.\")\n",
    "\n",
    "def assistant(state: MessagesState): \n",
    "    return {\"messages\": [llm_with_tools.invoke([sys_msg] + state[\"messages\"])]}"
   ]
  },
  {
   "cell_type": "code",
   "execution_count": 9,
   "metadata": {},
   "outputs": [
    {
     "data": {
      "image/png": "[encoded data removed]",
      "text/plain": [
       "<IPython.core.display.Image object>"
      ]
     },
     "metadata": {},
     "output_type": "display_data"
    }
   ],
   "source": [
    "from langgraph.graph import START, StateGraph\n",
    "from langgraph.prebuilt import tools_condition, ToolNode\n",
    "from IPython.display import Image, display\n",
    "\n",
    "builder = StateGraph(MessagesState)\n",
    "\n",
    "builder.add_node(\"assistant\", assistant)\n",
    "builder.add_node(\"tools\", ToolNode(tools))\n",
    "\n",
    "builder.add_edge(START, \"assistant\")\n",
    "builder.add_conditional_edges(\"assistant\", tools_condition)\n",
    "builder.add_edge(\"tools\", \"assistant\")\n",
    "\n",
    "react_graph = builder.compile()\n",
    "\n",
    "display(Image(react_graph.get_graph(xray=True).draw_mermaid_png()))"
   ]
  },
  {
   "cell_type": "code",
   "execution_count": 12,
   "metadata": {},
   "outputs": [
    {
     "name": "stdout",
     "output_type": "stream",
     "text": [
      "================================\u001b[1m Human Message \u001b[0m=================================\n",
      "\n",
      "Is the shop open now?\n",
      "==================================\u001b[1m Ai Message \u001b[0m==================================\n",
      "Tool Calls:\n",
      "  shopOpeningHours (call_InUKMsnODhlfsysw1Szu3uom)\n",
      " Call ID: call_InUKMsnODhlfsysw1Szu3uom\n",
      "  Args:\n",
      "  getCurrentTime (call_2VD7yKKozckX8Pd7g0wDDM30)\n",
      " Call ID: call_2VD7yKKozckX8Pd7g0wDDM30\n",
      "  Args:\n",
      "=================================\u001b[1m Tool Message \u001b[0m=================================\n",
      "Name: shopOpeningHours\n",
      "\n",
      "Monday: 10-8\n",
      "                    Tuesday: 10-8\n",
      "                    Wednesday: 10-8\n",
      "                    Thursday: 10-8\n",
      "                    Friday: 10-8\n",
      "                    Saturday: 10-8\n",
      "                    Sunday: 10-8\n",
      "=================================\u001b[1m Tool Message \u001b[0m=================================\n",
      "Name: getCurrentTime\n",
      "\n",
      "2025-04-30 18:16:08.032682\n",
      "==================================\u001b[1m Ai Message \u001b[0m==================================\n",
      "\n",
      "The current time is 18:16 on Wednesday, April 30, 2025. The shop's opening hours are 10:00 to 20:00 every day of the week, including Wednesday. Therefore, the shop is currently open.\n"
     ]
    }
   ],
   "source": [
    "from langchain_core.messages import HumanMessage \n",
    "\n",
    "messages = [HumanMessage(content=\"Is the shop open now?\")]\n",
    "messages = react_graph.invoke({\"messages\": messages})\n",
    "\n",
    "for m in messages[\"messages\"]:\n",
    "    m.pretty_print()"
   ]
  }
 ],
 "metadata": {
  "kernelspec": {
   "display_name": "Python 3",
   "language": "python",
   "name": "python3"
  },
  "language_info": {
   "codemirror_mode": {
    "name": "ipython",
    "version": 3
   },
   "file_extension": ".py",
   "mimetype": "text/x-python",
   "name": "python",
   "nbconvert_exporter": "python",
   "pygments_lexer": "ipython3",
   "version": "3.9.6"
  }
 },
 "nbformat": 4,
 "nbformat_minor": 2
}
