{
 "cells": [
  {
   "cell_type": "code",
   "execution_count": 4,
   "metadata": {},
   "outputs": [],
   "source": [
    "import os, getpass\n",
    "def _set_env(var: str):\n",
    "    if not os.environ.get(var):\n",
    "        os.environ[var] = getpass.getpass(f\"Enter {var}: \")\n",
    "\n",
    "_set_env(\"OPENAI_API_KEY\")"
   ]
  },
  {
   "cell_type": "code",
   "execution_count": 7,
   "metadata": {},
   "outputs": [],
   "source": [
    "import datetime\n",
    "from langchain_openai import ChatOpenAI\n",
    "\n",
    "llm = ChatOpenAI(model=\"gpt-4o\")\n",
    "\n",
    "def shopOpeningHours() -> str:\n",
    "    \"The shop's opening hours are:\"\n",
    "    schedule = \"\"\"Monday: 10-8\n",
    "                    Tuesday: 10-8\n",
    "                    Wednesday: 10-8\n",
    "                    Thursday: 10-8\n",
    "                    Friday: 10-8\n",
    "                    Saturday: 10-8\n",
    "                    Sunday: 10-8\"\"\"\n",
    "    return schedule\n",
    "\n",
    "def getCurrentTime() -> datetime:\n",
    "    \"Gets the current date and time\"\n",
    "    return datetime.datetime.now()\n",
    "\n",
    "tools = [shopOpeningHours, getCurrentTime]\n",
    "\n",
    "llm_with_tools = llm.bind_tools(tools)"
   ]
  }
 ],
 "metadata": {
  "kernelspec": {
   "display_name": "Python 3",
   "language": "python",
   "name": "python3"
  },
  "language_info": {
   "codemirror_mode": {
    "name": "ipython",
    "version": 3
   },
   "file_extension": ".py",
   "mimetype": "text/x-python",
   "name": "python",
   "nbconvert_exporter": "python",
   "pygments_lexer": "ipython3",
   "version": "3.9.6"
  }
 },
 "nbformat": 4,
 "nbformat_minor": 2
}
