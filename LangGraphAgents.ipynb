{
 "cells": [
  {
   "cell_type": "code",
   "execution_count": 4,
   "metadata": {},
   "outputs": [],
   "source": [
    "import os, getpass\n",
    "def _set_env(var: str):\n",
    "    if not os.environ.get(var):\n",
    "        os.environ[var] = getpass.getpass(f\"Enter {var}: \")\n",
    "\n",
    "_set_env(\"OPENAI_API_KEY\")"
   ]
  },
  {
   "cell_type": "code",
   "execution_count": 7,
   "metadata": {},
   "outputs": [],
   "source": [
    "import datetime\n",
    "from langchain_openai import ChatOpenAI\n",
    "\n",
    "llm = ChatOpenAI(model=\"gpt-4o\")\n",
    "\n",
    "def shop_opening_hours() -> str:\n",
    "    \"The shop's opening hours are:\"\n",
    "    schedule = \"\"\"Monday: 10am-8pm\n",
    "                    Tuesday: 10am-8pm\n",
    "                    Wednesday: 10am-8pm\n",
    "                    Thursday: 10am-8pm\n",
    "                    Friday: 10am-8pm\n",
    "                    Saturday: 10am-8pm\n",
    "                    Sunday: 10am-8pm\"\"\"\n",
    "    return schedule\n",
    "\n",
    "def get_current_time() -> datetime:\n",
    "    \"Gets the current date and time\"\n",
    "    return datetime.datetime.now()\n",
    "\n",
    "tools = [shop_opening_hours, get_current_time]\n",
    "\n",
    "llm_with_tools = llm.bind_tools(tools)"
   ]
  },
  {
   "cell_type": "code",
   "execution_count": 8,
   "metadata": {},
   "outputs": [],
   "source": [
    "from langgraph.graph import MessagesState\n",
    "from langchain_core.messages import SystemMessage\n",
    "\n",
    "sys_msg = SystemMessage(content=\"You are a helpful assistant who is responsible for determining whether a shop is open or closed based on the current date and time.\")\n",
    "\n",
    "def assistant(state: MessagesState): \n",
    "    return {\"messages\": [llm_with_tools.invoke([sys_msg] + state[\"messages\"])]}"
   ]
  }
 ],
 "metadata": {
  "kernelspec": {
   "display_name": "Python 3",
   "language": "python",
   "name": "python3"
  },
  "language_info": {
   "codemirror_mode": {
    "name": "ipython",
    "version": 3
   },
   "file_extension": ".py",
   "mimetype": "text/x-python",
   "name": "python",
   "nbconvert_exporter": "python",
   "pygments_lexer": "ipython3",
   "version": "3.9.6"
  }
 },
 "nbformat": 4,
 "nbformat_minor": 2
}
