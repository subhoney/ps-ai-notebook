{
 "cells": [
  {
   "cell_type": "code",
   "execution_count": 1,
   "metadata": {},
   "outputs": [],
   "source": [
    "%%capture --no-stderr\n",
    "%pip install -quit -U langchain_openai langchain_core langgraph langgraph-supervisor"
   ]
  },
  {
   "cell_type": "code",
   "execution_count": 2,
   "metadata": {},
   "outputs": [],
   "source": [
    "import os, getpass\n",
    "\n",
    "def _set_env(var: str):\n",
    "        if not os.environ.get(var):\n",
    "            os.environ[var] = getpass.getpass(f\"{var}: \")\n",
    "\n",
    "_set_env(\"OPENAI_API_KEY\")"
   ]
  },
  {
   "cell_type": "code",
   "execution_count": 3,
   "metadata": {},
   "outputs": [],
   "source": [
    "import datetime\n",
    "\n",
    "from langchain_openai import ChatOpenAI\n",
    "from langgraph.prebuilt import create_react_agent\n",
    "\n",
    "llm = ChatOpenAI(model=\"gpt-4o\")\n",
    "\n",
    "def current_date_time() -> str:\n",
    "    \"This will give you the current date and time in your location. And maybe the day of the week, idk\"\n",
    "    \n",
    "    dt = datetime.datetime.now()\n",
    "    return \"Datetime is {} and today is {}\".format(dt, dt.strftime('%A'))\n",
    "\n",
    "time_keeper_agent = create_react_agent(\n",
    "    model=llm,\n",
    "    tools=[current_date_time],\n",
    "    name = \"time_keeper_agent\",\n",
    "    prompt= \"You tell the current date, time and day of the week in your location.\"\n",
    ")"
   ]
  },
  {
   "cell_type": "code",
   "execution_count": 4,
   "metadata": {},
   "outputs": [],
   "source": [
    "def shop_opening_hours() -> str:\n",
    "    \"The shop's opening hours are:\"\n",
    "    schedule = \"\"\"Monday: 10am-8pm\n",
    "                    Tuesday: 10am-8pm\n",
    "                    Wednesday: 10am-8pm\n",
    "                    Thursday: 10am-8pm\n",
    "                    Friday: 10am-8pm\n",
    "                    Saturday: 10am-8pm\n",
    "                    Sunday: 10am-8pm\"\"\"\n",
    "    return schedule\n",
    "\n",
    "schedule_keeper_agent = create_react_agent(\n",
    "    model=llm,\n",
    "    tools=[shop_opening_hours],\n",
    "    name = \"schedule_keeper_agent\",\n",
    "    prompt= \"You tell the shop's opening hours.\"\n",
    ")"
   ]
  },
  {
   "cell_type": "code",
   "execution_count": 5,
   "metadata": {},
   "outputs": [
    {
     "ename": "ModuleNotFoundError",
     "evalue": "No module named 'langgraph_supervisor'",
     "output_type": "error",
     "traceback": [
      "\u001b[0;31m---------------------------------------------------------------------------\u001b[0m",
      "\u001b[0;31mModuleNotFoundError\u001b[0m                       Traceback (most recent call last)",
      "Cell \u001b[0;32mIn[5], line 1\u001b[0m\n\u001b[0;32m----> 1\u001b[0m \u001b[38;5;28;01mfrom\u001b[39;00m\u001b[38;5;250m \u001b[39m\u001b[38;5;21;01mlanggraph_supervisor\u001b[39;00m\u001b[38;5;250m \u001b[39m\u001b[38;5;28;01mimport\u001b[39;00m create_supervisor\n\u001b[1;32m      3\u001b[0m prompt \u001b[38;5;241m=\u001b[39m (\u001b[38;5;124m\"\"\"\u001b[39m\u001b[38;5;124mYou are a team supervisor to manage time_keeper_agent and schedule_keeper_agent.\u001b[39m\n\u001b[1;32m      4\u001b[0m \u001b[38;5;124m            Your job is to respond to shop opening hour queries using the time_keeper_agent and schedule_keeper_agent.\u001b[39m\n\u001b[1;32m      5\u001b[0m \u001b[38;5;124m            To get the current time and date, use time)_keeper_agent and to get the shop\u001b[39m\u001b[38;5;124m'\u001b[39m\u001b[38;5;124ms operating hours\u001b[39m\n\u001b[1;32m      6\u001b[0m \u001b[38;5;124m            use the the schedule_keeper_agent. You can use both agents in parallel to get the information.\u001b[39m\u001b[38;5;124m\"\"\"\u001b[39m)\n\u001b[1;32m      8\u001b[0m workflow \u001b[38;5;241m=\u001b[39m create_supervisor(\n\u001b[1;32m      9\u001b[0m     [schedule_keeper_agent, time_keeper_agent],\n\u001b[1;32m     10\u001b[0m     model\u001b[38;5;241m=\u001b[39mllm,\n\u001b[1;32m     11\u001b[0m     output_mode \u001b[38;5;241m=\u001b[39m \u001b[38;5;124m\"\u001b[39m\u001b[38;5;124mfull_history\u001b[39m\u001b[38;5;124m\"\u001b[39m,\n\u001b[1;32m     12\u001b[0m     prompt \u001b[38;5;241m=\u001b[39m prompt\n\u001b[1;32m     13\u001b[0m )\n",
      "\u001b[0;31mModuleNotFoundError\u001b[0m: No module named 'langgraph_supervisor'"
     ]
    }
   ],
   "source": [
    "from langgraph_supervisor import create_supervisor\n",
    "\n",
    "prompt = (\"\"\"You are a team supervisor to manage time_keeper_agent and schedule_keeper_agent.\n",
    "            Your job is to respond to shop opening hour queries using the time_keeper_agent and schedule_keeper_agent.\n",
    "            To get the current time and date, use time)_keeper_agent and to get the shop's operating hours\n",
    "            use the the schedule_keeper_agent. You can use both agents in parallel to get the information.\"\"\")\n",
    "\n",
    "workflow = create_supervisor(\n",
    "    [schedule_keeper_agent, time_keeper_agent],\n",
    "    model=llm,\n",
    "    output_mode = \"full_history\",\n",
    "    prompt = prompt\n",
    ")"
   ]
  }
 ],
 "metadata": {
  "kernelspec": {
   "display_name": "Python 3",
   "language": "python",
   "name": "python3"
  },
  "language_info": {
   "codemirror_mode": {
    "name": "ipython",
    "version": 3
   },
   "file_extension": ".py",
   "mimetype": "text/x-python",
   "name": "python",
   "nbconvert_exporter": "python",
   "pygments_lexer": "ipython3",
   "version": "3.9.6"
  }
 },
 "nbformat": 4,
 "nbformat_minor": 2
}
